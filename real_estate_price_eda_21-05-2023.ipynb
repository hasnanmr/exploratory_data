{
 "cells": [
  {
   "cell_type": "markdown",
   "id": "2c4a3900-6673-46a6-ba23-19be7fcfb554",
   "metadata": {},
   "source": [
    "# Data Wrangling, Visualization and Analyzation "
   ]
  },
  {
   "cell_type": "code",
   "execution_count": 26,
   "id": "e74558e2-2947-406b-a264-4a3cf571bd92",
   "metadata": {},
   "outputs": [],
   "source": [
    "# Library\n",
    "\n",
    "import pandas as pd\n",
    "import seaborn as sns\n",
    "import matplotlib.pyplot as plt\n",
    "import numpy as np"
   ]
  },
  {
   "cell_type": "markdown",
   "id": "7908b440-ff83-4d44-861c-638a38ce6e1e",
   "metadata": {},
   "source": [
    "## Data Description"
   ]
  },
  {
   "cell_type": "code",
   "execution_count": 2,
   "id": "3b336e0a-132c-4355-a5f4-09752899f934",
   "metadata": {},
   "outputs": [],
   "source": [
    "#import data\n",
    "df = pd.read_csv(\"real_estate_sales_2001-2020.csv\", low_memory=False)"
   ]
  },
  {
   "cell_type": "code",
   "execution_count": 3,
   "id": "dffbcf0f-171d-45d0-9ce3-18d8a3a14040",
   "metadata": {},
   "outputs": [
    {
     "data": {
      "text/html": [
       "<div>\n",
       "<style scoped>\n",
       "    .dataframe tbody tr th:only-of-type {\n",
       "        vertical-align: middle;\n",
       "    }\n",
       "\n",
       "    .dataframe tbody tr th {\n",
       "        vertical-align: top;\n",
       "    }\n",
       "\n",
       "    .dataframe thead th {\n",
       "        text-align: right;\n",
       "    }\n",
       "</style>\n",
       "<table border=\"1\" class=\"dataframe\">\n",
       "  <thead>\n",
       "    <tr style=\"text-align: right;\">\n",
       "      <th></th>\n",
       "      <th>Serial Number</th>\n",
       "      <th>List Year</th>\n",
       "      <th>Date Recorded</th>\n",
       "      <th>Town</th>\n",
       "      <th>Address</th>\n",
       "      <th>Assessed Value</th>\n",
       "      <th>Sale Amount</th>\n",
       "      <th>Sales Ratio</th>\n",
       "      <th>Property Type</th>\n",
       "      <th>Residential Type</th>\n",
       "      <th>Non Use Code</th>\n",
       "      <th>Assessor Remarks</th>\n",
       "      <th>OPM remarks</th>\n",
       "      <th>Location</th>\n",
       "    </tr>\n",
       "  </thead>\n",
       "  <tbody>\n",
       "    <tr>\n",
       "      <th>0</th>\n",
       "      <td>2020348</td>\n",
       "      <td>2020</td>\n",
       "      <td>09/13/2021</td>\n",
       "      <td>Ansonia</td>\n",
       "      <td>230 WAKELEE AVE</td>\n",
       "      <td>150500.0</td>\n",
       "      <td>325000.0</td>\n",
       "      <td>0.4630</td>\n",
       "      <td>Commercial</td>\n",
       "      <td>NaN</td>\n",
       "      <td>NaN</td>\n",
       "      <td>NaN</td>\n",
       "      <td>NaN</td>\n",
       "      <td>NaN</td>\n",
       "    </tr>\n",
       "    <tr>\n",
       "      <th>1</th>\n",
       "      <td>20002</td>\n",
       "      <td>2020</td>\n",
       "      <td>10/02/2020</td>\n",
       "      <td>Ashford</td>\n",
       "      <td>390 TURNPIKE RD</td>\n",
       "      <td>253000.0</td>\n",
       "      <td>430000.0</td>\n",
       "      <td>0.5883</td>\n",
       "      <td>Residential</td>\n",
       "      <td>Single Family</td>\n",
       "      <td>NaN</td>\n",
       "      <td>NaN</td>\n",
       "      <td>NaN</td>\n",
       "      <td>NaN</td>\n",
       "    </tr>\n",
       "    <tr>\n",
       "      <th>2</th>\n",
       "      <td>200212</td>\n",
       "      <td>2020</td>\n",
       "      <td>03/09/2021</td>\n",
       "      <td>Avon</td>\n",
       "      <td>5 CHESTNUT DRIVE</td>\n",
       "      <td>130400.0</td>\n",
       "      <td>179900.0</td>\n",
       "      <td>0.7248</td>\n",
       "      <td>Residential</td>\n",
       "      <td>Condo</td>\n",
       "      <td>NaN</td>\n",
       "      <td>NaN</td>\n",
       "      <td>NaN</td>\n",
       "      <td>NaN</td>\n",
       "    </tr>\n",
       "    <tr>\n",
       "      <th>3</th>\n",
       "      <td>200243</td>\n",
       "      <td>2020</td>\n",
       "      <td>04/13/2021</td>\n",
       "      <td>Avon</td>\n",
       "      <td>111 NORTHINGTON DRIVE</td>\n",
       "      <td>619290.0</td>\n",
       "      <td>890000.0</td>\n",
       "      <td>0.6958</td>\n",
       "      <td>Residential</td>\n",
       "      <td>Single Family</td>\n",
       "      <td>NaN</td>\n",
       "      <td>NaN</td>\n",
       "      <td>NaN</td>\n",
       "      <td>NaN</td>\n",
       "    </tr>\n",
       "    <tr>\n",
       "      <th>4</th>\n",
       "      <td>200377</td>\n",
       "      <td>2020</td>\n",
       "      <td>07/02/2021</td>\n",
       "      <td>Avon</td>\n",
       "      <td>70 FAR HILLS DRIVE</td>\n",
       "      <td>862330.0</td>\n",
       "      <td>1447500.0</td>\n",
       "      <td>0.5957</td>\n",
       "      <td>Residential</td>\n",
       "      <td>Single Family</td>\n",
       "      <td>NaN</td>\n",
       "      <td>NaN</td>\n",
       "      <td>NaN</td>\n",
       "      <td>NaN</td>\n",
       "    </tr>\n",
       "    <tr>\n",
       "      <th>5</th>\n",
       "      <td>200109</td>\n",
       "      <td>2020</td>\n",
       "      <td>12/09/2020</td>\n",
       "      <td>Avon</td>\n",
       "      <td>57 FAR HILLS DRIVE</td>\n",
       "      <td>847520.0</td>\n",
       "      <td>1250000.0</td>\n",
       "      <td>0.6780</td>\n",
       "      <td>Residential</td>\n",
       "      <td>Single Family</td>\n",
       "      <td>NaN</td>\n",
       "      <td>NaN</td>\n",
       "      <td>NaN</td>\n",
       "      <td>NaN</td>\n",
       "    </tr>\n",
       "    <tr>\n",
       "      <th>6</th>\n",
       "      <td>2020180</td>\n",
       "      <td>2020</td>\n",
       "      <td>03/01/2021</td>\n",
       "      <td>Berlin</td>\n",
       "      <td>1539 FARMINGTON AVE</td>\n",
       "      <td>234200.0</td>\n",
       "      <td>130000.0</td>\n",
       "      <td>1.8015</td>\n",
       "      <td>Residential</td>\n",
       "      <td>Two Family</td>\n",
       "      <td>08 - Part Interest</td>\n",
       "      <td>NaN</td>\n",
       "      <td>NaN</td>\n",
       "      <td>NaN</td>\n",
       "    </tr>\n",
       "    <tr>\n",
       "      <th>7</th>\n",
       "      <td>2020313</td>\n",
       "      <td>2020</td>\n",
       "      <td>07/01/2021</td>\n",
       "      <td>Berlin</td>\n",
       "      <td>216 WATCH HILL RD</td>\n",
       "      <td>412000.0</td>\n",
       "      <td>677500.0</td>\n",
       "      <td>0.6081</td>\n",
       "      <td>Residential</td>\n",
       "      <td>Single Family</td>\n",
       "      <td>NaN</td>\n",
       "      <td>NaN</td>\n",
       "      <td>NaN</td>\n",
       "      <td>NaN</td>\n",
       "    </tr>\n",
       "    <tr>\n",
       "      <th>8</th>\n",
       "      <td>200097</td>\n",
       "      <td>2020</td>\n",
       "      <td>06/04/2021</td>\n",
       "      <td>Bethany</td>\n",
       "      <td>23 AMITY RD</td>\n",
       "      <td>511000.0</td>\n",
       "      <td>795000.0</td>\n",
       "      <td>0.6427</td>\n",
       "      <td>Commercial</td>\n",
       "      <td>NaN</td>\n",
       "      <td>NaN</td>\n",
       "      <td>NaN</td>\n",
       "      <td>NaN</td>\n",
       "      <td>NaN</td>\n",
       "    </tr>\n",
       "    <tr>\n",
       "      <th>9</th>\n",
       "      <td>20139</td>\n",
       "      <td>2020</td>\n",
       "      <td>12/16/2020</td>\n",
       "      <td>Bethel</td>\n",
       "      <td>16 DEEPWOOD DRIVE</td>\n",
       "      <td>171360.0</td>\n",
       "      <td>335000.0</td>\n",
       "      <td>0.5115</td>\n",
       "      <td>Residential</td>\n",
       "      <td>Single Family</td>\n",
       "      <td>NaN</td>\n",
       "      <td>NaN</td>\n",
       "      <td>NaN</td>\n",
       "      <td>NaN</td>\n",
       "    </tr>\n",
       "  </tbody>\n",
       "</table>\n",
       "</div>"
      ],
      "text/plain": [
       "   Serial Number  List Year Date Recorded     Town                Address  \\\n",
       "0        2020348       2020    09/13/2021  Ansonia        230 WAKELEE AVE   \n",
       "1          20002       2020    10/02/2020  Ashford        390 TURNPIKE RD   \n",
       "2         200212       2020    03/09/2021     Avon       5 CHESTNUT DRIVE   \n",
       "3         200243       2020    04/13/2021     Avon  111 NORTHINGTON DRIVE   \n",
       "4         200377       2020    07/02/2021     Avon     70 FAR HILLS DRIVE   \n",
       "5         200109       2020    12/09/2020     Avon     57 FAR HILLS DRIVE   \n",
       "6        2020180       2020    03/01/2021   Berlin    1539 FARMINGTON AVE   \n",
       "7        2020313       2020    07/01/2021   Berlin      216 WATCH HILL RD   \n",
       "8         200097       2020    06/04/2021  Bethany            23 AMITY RD   \n",
       "9          20139       2020    12/16/2020   Bethel      16 DEEPWOOD DRIVE   \n",
       "\n",
       "   Assessed Value  Sale Amount  Sales Ratio Property Type Residential Type  \\\n",
       "0        150500.0     325000.0       0.4630    Commercial              NaN   \n",
       "1        253000.0     430000.0       0.5883   Residential    Single Family   \n",
       "2        130400.0     179900.0       0.7248   Residential            Condo   \n",
       "3        619290.0     890000.0       0.6958   Residential    Single Family   \n",
       "4        862330.0    1447500.0       0.5957   Residential    Single Family   \n",
       "5        847520.0    1250000.0       0.6780   Residential    Single Family   \n",
       "6        234200.0     130000.0       1.8015   Residential       Two Family   \n",
       "7        412000.0     677500.0       0.6081   Residential    Single Family   \n",
       "8        511000.0     795000.0       0.6427    Commercial              NaN   \n",
       "9        171360.0     335000.0       0.5115   Residential    Single Family   \n",
       "\n",
       "         Non Use Code Assessor Remarks OPM remarks Location  \n",
       "0                 NaN              NaN         NaN      NaN  \n",
       "1                 NaN              NaN         NaN      NaN  \n",
       "2                 NaN              NaN         NaN      NaN  \n",
       "3                 NaN              NaN         NaN      NaN  \n",
       "4                 NaN              NaN         NaN      NaN  \n",
       "5                 NaN              NaN         NaN      NaN  \n",
       "6  08 - Part Interest              NaN         NaN      NaN  \n",
       "7                 NaN              NaN         NaN      NaN  \n",
       "8                 NaN              NaN         NaN      NaN  \n",
       "9                 NaN              NaN         NaN      NaN  "
      ]
     },
     "execution_count": 3,
     "metadata": {},
     "output_type": "execute_result"
    }
   ],
   "source": [
    "df.head(10)"
   ]
  },
  {
   "cell_type": "code",
   "execution_count": 4,
   "id": "bcfa87a9-3b85-4c43-aab2-ab1e7f156fb7",
   "metadata": {},
   "outputs": [
    {
     "name": "stdout",
     "output_type": "stream",
     "text": [
      "<class 'pandas.core.frame.DataFrame'>\n",
      "RangeIndex: 997213 entries, 0 to 997212\n",
      "Data columns (total 14 columns):\n",
      " #   Column            Non-Null Count   Dtype  \n",
      "---  ------            --------------   -----  \n",
      " 0   Serial Number     997213 non-null  int64  \n",
      " 1   List Year         997213 non-null  int64  \n",
      " 2   Date Recorded     997211 non-null  object \n",
      " 3   Town              997213 non-null  object \n",
      " 4   Address           997162 non-null  object \n",
      " 5   Assessed Value    997213 non-null  float64\n",
      " 6   Sale Amount       997213 non-null  float64\n",
      " 7   Sales Ratio       997213 non-null  float64\n",
      " 8   Property Type     614767 non-null  object \n",
      " 9   Residential Type  608904 non-null  object \n",
      " 10  Non Use Code      289681 non-null  object \n",
      " 11  Assessor Remarks  149864 non-null  object \n",
      " 12  OPM remarks       9934 non-null    object \n",
      " 13  Location          197697 non-null  object \n",
      "dtypes: float64(3), int64(2), object(9)\n",
      "memory usage: 106.5+ MB\n"
     ]
    }
   ],
   "source": [
    "df.info()"
   ]
  },
  {
   "cell_type": "code",
   "execution_count": 5,
   "id": "4228c7d7-f8c9-482a-921d-8b77f6f978d1",
   "metadata": {},
   "outputs": [],
   "source": [
    "df[\"Date Recorded\"] = pd.to_datetime(df[\"Date Recorded\"])"
   ]
  },
  {
   "cell_type": "code",
   "execution_count": 6,
   "id": "ec56b100-d04b-4a98-a6fd-3e1b4b7aa02b",
   "metadata": {},
   "outputs": [
    {
     "data": {
      "text/html": [
       "<div>\n",
       "<style scoped>\n",
       "    .dataframe tbody tr th:only-of-type {\n",
       "        vertical-align: middle;\n",
       "    }\n",
       "\n",
       "    .dataframe tbody tr th {\n",
       "        vertical-align: top;\n",
       "    }\n",
       "\n",
       "    .dataframe thead th {\n",
       "        text-align: right;\n",
       "    }\n",
       "</style>\n",
       "<table border=\"1\" class=\"dataframe\">\n",
       "  <thead>\n",
       "    <tr style=\"text-align: right;\">\n",
       "      <th></th>\n",
       "      <th>Serial Number</th>\n",
       "      <th>List Year</th>\n",
       "      <th>Date Recorded</th>\n",
       "      <th>Town</th>\n",
       "      <th>Address</th>\n",
       "      <th>Assessed Value</th>\n",
       "      <th>Sale Amount</th>\n",
       "      <th>Sales Ratio</th>\n",
       "      <th>Property Type</th>\n",
       "      <th>Residential Type</th>\n",
       "      <th>Non Use Code</th>\n",
       "      <th>Assessor Remarks</th>\n",
       "      <th>OPM remarks</th>\n",
       "      <th>Location</th>\n",
       "    </tr>\n",
       "  </thead>\n",
       "  <tbody>\n",
       "    <tr>\n",
       "      <th>0</th>\n",
       "      <td>2020348</td>\n",
       "      <td>2020</td>\n",
       "      <td>2021-09-13</td>\n",
       "      <td>Ansonia</td>\n",
       "      <td>230 WAKELEE AVE</td>\n",
       "      <td>150500.0</td>\n",
       "      <td>325000.0</td>\n",
       "      <td>0.4630</td>\n",
       "      <td>Commercial</td>\n",
       "      <td>NaN</td>\n",
       "      <td>NaN</td>\n",
       "      <td>NaN</td>\n",
       "      <td>NaN</td>\n",
       "      <td>NaN</td>\n",
       "    </tr>\n",
       "    <tr>\n",
       "      <th>1</th>\n",
       "      <td>20002</td>\n",
       "      <td>2020</td>\n",
       "      <td>2020-10-02</td>\n",
       "      <td>Ashford</td>\n",
       "      <td>390 TURNPIKE RD</td>\n",
       "      <td>253000.0</td>\n",
       "      <td>430000.0</td>\n",
       "      <td>0.5883</td>\n",
       "      <td>Residential</td>\n",
       "      <td>Single Family</td>\n",
       "      <td>NaN</td>\n",
       "      <td>NaN</td>\n",
       "      <td>NaN</td>\n",
       "      <td>NaN</td>\n",
       "    </tr>\n",
       "    <tr>\n",
       "      <th>2</th>\n",
       "      <td>200212</td>\n",
       "      <td>2020</td>\n",
       "      <td>2021-03-09</td>\n",
       "      <td>Avon</td>\n",
       "      <td>5 CHESTNUT DRIVE</td>\n",
       "      <td>130400.0</td>\n",
       "      <td>179900.0</td>\n",
       "      <td>0.7248</td>\n",
       "      <td>Residential</td>\n",
       "      <td>Condo</td>\n",
       "      <td>NaN</td>\n",
       "      <td>NaN</td>\n",
       "      <td>NaN</td>\n",
       "      <td>NaN</td>\n",
       "    </tr>\n",
       "    <tr>\n",
       "      <th>3</th>\n",
       "      <td>200243</td>\n",
       "      <td>2020</td>\n",
       "      <td>2021-04-13</td>\n",
       "      <td>Avon</td>\n",
       "      <td>111 NORTHINGTON DRIVE</td>\n",
       "      <td>619290.0</td>\n",
       "      <td>890000.0</td>\n",
       "      <td>0.6958</td>\n",
       "      <td>Residential</td>\n",
       "      <td>Single Family</td>\n",
       "      <td>NaN</td>\n",
       "      <td>NaN</td>\n",
       "      <td>NaN</td>\n",
       "      <td>NaN</td>\n",
       "    </tr>\n",
       "    <tr>\n",
       "      <th>4</th>\n",
       "      <td>200377</td>\n",
       "      <td>2020</td>\n",
       "      <td>2021-07-02</td>\n",
       "      <td>Avon</td>\n",
       "      <td>70 FAR HILLS DRIVE</td>\n",
       "      <td>862330.0</td>\n",
       "      <td>1447500.0</td>\n",
       "      <td>0.5957</td>\n",
       "      <td>Residential</td>\n",
       "      <td>Single Family</td>\n",
       "      <td>NaN</td>\n",
       "      <td>NaN</td>\n",
       "      <td>NaN</td>\n",
       "      <td>NaN</td>\n",
       "    </tr>\n",
       "  </tbody>\n",
       "</table>\n",
       "</div>"
      ],
      "text/plain": [
       "   Serial Number  List Year Date Recorded     Town                Address  \\\n",
       "0        2020348       2020    2021-09-13  Ansonia        230 WAKELEE AVE   \n",
       "1          20002       2020    2020-10-02  Ashford        390 TURNPIKE RD   \n",
       "2         200212       2020    2021-03-09     Avon       5 CHESTNUT DRIVE   \n",
       "3         200243       2020    2021-04-13     Avon  111 NORTHINGTON DRIVE   \n",
       "4         200377       2020    2021-07-02     Avon     70 FAR HILLS DRIVE   \n",
       "\n",
       "   Assessed Value  Sale Amount  Sales Ratio Property Type Residential Type  \\\n",
       "0        150500.0     325000.0       0.4630    Commercial              NaN   \n",
       "1        253000.0     430000.0       0.5883   Residential    Single Family   \n",
       "2        130400.0     179900.0       0.7248   Residential            Condo   \n",
       "3        619290.0     890000.0       0.6958   Residential    Single Family   \n",
       "4        862330.0    1447500.0       0.5957   Residential    Single Family   \n",
       "\n",
       "  Non Use Code Assessor Remarks OPM remarks Location  \n",
       "0          NaN              NaN         NaN      NaN  \n",
       "1          NaN              NaN         NaN      NaN  \n",
       "2          NaN              NaN         NaN      NaN  \n",
       "3          NaN              NaN         NaN      NaN  \n",
       "4          NaN              NaN         NaN      NaN  "
      ]
     },
     "execution_count": 6,
     "metadata": {},
     "output_type": "execute_result"
    }
   ],
   "source": [
    "df.head(5)"
   ]
  },
  {
   "cell_type": "code",
   "execution_count": 7,
   "id": "038a81c5-eb66-4957-a4ff-eff65f248395",
   "metadata": {},
   "outputs": [],
   "source": [
    "df_copy = df.copy()"
   ]
  },
  {
   "cell_type": "code",
   "execution_count": 8,
   "id": "c698159c-ab23-4e66-ac29-eae922191266",
   "metadata": {},
   "outputs": [],
   "source": [
    "df_copy[\"Property Type\"] = df_copy[\"Property Type\"].astype(\"category\")"
   ]
  },
  {
   "cell_type": "code",
   "execution_count": 9,
   "id": "fc0b6a46-dbe0-44ee-8860-abeb16e766ef",
   "metadata": {},
   "outputs": [
    {
     "data": {
      "text/plain": [
       "Serial Number        83537\n",
       "List Year               20\n",
       "Date Recorded         6387\n",
       "Town                   170\n",
       "Address             714371\n",
       "Assessed Value       91378\n",
       "Sale Amount          57372\n",
       "Sales Ratio         547044\n",
       "Property Type           11\n",
       "Residential Type         5\n",
       "Non Use Code            74\n",
       "Assessor Remarks     66508\n",
       "OPM remarks           4825\n",
       "Location            130529\n",
       "dtype: int64"
      ]
     },
     "execution_count": 9,
     "metadata": {},
     "output_type": "execute_result"
    }
   ],
   "source": [
    "df_copy.nunique()"
   ]
  },
  {
   "cell_type": "code",
   "execution_count": 10,
   "id": "22193cb1-eea0-43c4-8b97-c0e301240dc6",
   "metadata": {},
   "outputs": [],
   "source": [
    "df_copy[\"Residential Type\"] = df_copy[\"Residential Type\"].astype(\"category\")"
   ]
  },
  {
   "cell_type": "code",
   "execution_count": 11,
   "id": "f209b5ec-9764-4ee7-9322-e55767d64856",
   "metadata": {},
   "outputs": [
    {
     "name": "stdout",
     "output_type": "stream",
     "text": [
      "<class 'pandas.core.frame.DataFrame'>\n",
      "RangeIndex: 997213 entries, 0 to 997212\n",
      "Data columns (total 14 columns):\n",
      " #   Column            Non-Null Count   Dtype         \n",
      "---  ------            --------------   -----         \n",
      " 0   Serial Number     997213 non-null  int64         \n",
      " 1   List Year         997213 non-null  int64         \n",
      " 2   Date Recorded     997211 non-null  datetime64[ns]\n",
      " 3   Town              997213 non-null  object        \n",
      " 4   Address           997162 non-null  object        \n",
      " 5   Assessed Value    997213 non-null  float64       \n",
      " 6   Sale Amount       997213 non-null  float64       \n",
      " 7   Sales Ratio       997213 non-null  float64       \n",
      " 8   Property Type     614767 non-null  category      \n",
      " 9   Residential Type  608904 non-null  category      \n",
      " 10  Non Use Code      289681 non-null  object        \n",
      " 11  Assessor Remarks  149864 non-null  object        \n",
      " 12  OPM remarks       9934 non-null    object        \n",
      " 13  Location          197697 non-null  object        \n",
      "dtypes: category(2), datetime64[ns](1), float64(3), int64(2), object(6)\n",
      "memory usage: 93.2+ MB\n"
     ]
    }
   ],
   "source": [
    "df_copy.info()"
   ]
  },
  {
   "cell_type": "code",
   "execution_count": 12,
   "id": "59f24db9-2c1d-400a-9e19-5b7d18500214",
   "metadata": {},
   "outputs": [
    {
     "data": {
      "text/html": [
       "<div>\n",
       "<style scoped>\n",
       "    .dataframe tbody tr th:only-of-type {\n",
       "        vertical-align: middle;\n",
       "    }\n",
       "\n",
       "    .dataframe tbody tr th {\n",
       "        vertical-align: top;\n",
       "    }\n",
       "\n",
       "    .dataframe thead th {\n",
       "        text-align: right;\n",
       "    }\n",
       "</style>\n",
       "<table border=\"1\" class=\"dataframe\">\n",
       "  <thead>\n",
       "    <tr style=\"text-align: right;\">\n",
       "      <th></th>\n",
       "      <th>Serial Number</th>\n",
       "      <th>List Year</th>\n",
       "      <th>Date Recorded</th>\n",
       "      <th>Town</th>\n",
       "      <th>Address</th>\n",
       "      <th>Assessed Value</th>\n",
       "      <th>Sale Amount</th>\n",
       "      <th>Sales Ratio</th>\n",
       "      <th>Property Type</th>\n",
       "      <th>Residential Type</th>\n",
       "      <th>Non Use Code</th>\n",
       "      <th>Assessor Remarks</th>\n",
       "      <th>OPM remarks</th>\n",
       "      <th>Location</th>\n",
       "    </tr>\n",
       "  </thead>\n",
       "  <tbody>\n",
       "    <tr>\n",
       "      <th>997208</th>\n",
       "      <td>190272</td>\n",
       "      <td>2019</td>\n",
       "      <td>2020-06-24</td>\n",
       "      <td>New London</td>\n",
       "      <td>4 BISHOP CT</td>\n",
       "      <td>60410.0</td>\n",
       "      <td>53100.0</td>\n",
       "      <td>1.137665</td>\n",
       "      <td>Single Family</td>\n",
       "      <td>Single Family</td>\n",
       "      <td>14 - Foreclosure</td>\n",
       "      <td>NaN</td>\n",
       "      <td>NaN</td>\n",
       "      <td>NaN</td>\n",
       "    </tr>\n",
       "    <tr>\n",
       "      <th>997209</th>\n",
       "      <td>190284</td>\n",
       "      <td>2019</td>\n",
       "      <td>2019-11-27</td>\n",
       "      <td>Waterbury</td>\n",
       "      <td>126 PERKINS AVE</td>\n",
       "      <td>68280.0</td>\n",
       "      <td>76000.0</td>\n",
       "      <td>0.898400</td>\n",
       "      <td>Single Family</td>\n",
       "      <td>Single Family</td>\n",
       "      <td>25 - Other</td>\n",
       "      <td>PRIVATE SALE</td>\n",
       "      <td>NaN</td>\n",
       "      <td>NaN</td>\n",
       "    </tr>\n",
       "    <tr>\n",
       "      <th>997210</th>\n",
       "      <td>190129</td>\n",
       "      <td>2019</td>\n",
       "      <td>2020-04-27</td>\n",
       "      <td>Windsor Locks</td>\n",
       "      <td>19 HATHAWAY ST</td>\n",
       "      <td>121450.0</td>\n",
       "      <td>210000.0</td>\n",
       "      <td>0.578300</td>\n",
       "      <td>Single Family</td>\n",
       "      <td>Single Family</td>\n",
       "      <td>NaN</td>\n",
       "      <td>NaN</td>\n",
       "      <td>NaN</td>\n",
       "      <td>NaN</td>\n",
       "    </tr>\n",
       "    <tr>\n",
       "      <th>997211</th>\n",
       "      <td>190504</td>\n",
       "      <td>2019</td>\n",
       "      <td>2020-06-03</td>\n",
       "      <td>Middletown</td>\n",
       "      <td>8 BYSTREK DR</td>\n",
       "      <td>203360.0</td>\n",
       "      <td>280000.0</td>\n",
       "      <td>0.726300</td>\n",
       "      <td>Single Family</td>\n",
       "      <td>Single Family</td>\n",
       "      <td>NaN</td>\n",
       "      <td>NaN</td>\n",
       "      <td>NaN</td>\n",
       "      <td>NaN</td>\n",
       "    </tr>\n",
       "    <tr>\n",
       "      <th>997212</th>\n",
       "      <td>190344</td>\n",
       "      <td>2019</td>\n",
       "      <td>2019-12-20</td>\n",
       "      <td>Milford</td>\n",
       "      <td>250 RESEARCH DR</td>\n",
       "      <td>4035970.0</td>\n",
       "      <td>7450000.0</td>\n",
       "      <td>0.541700</td>\n",
       "      <td>NaN</td>\n",
       "      <td>NaN</td>\n",
       "      <td>NaN</td>\n",
       "      <td>NaN</td>\n",
       "      <td>NaN</td>\n",
       "      <td>NaN</td>\n",
       "    </tr>\n",
       "  </tbody>\n",
       "</table>\n",
       "</div>"
      ],
      "text/plain": [
       "        Serial Number  List Year Date Recorded           Town  \\\n",
       "997208         190272       2019    2020-06-24     New London   \n",
       "997209         190284       2019    2019-11-27      Waterbury   \n",
       "997210         190129       2019    2020-04-27  Windsor Locks   \n",
       "997211         190504       2019    2020-06-03     Middletown   \n",
       "997212         190344       2019    2019-12-20        Milford   \n",
       "\n",
       "                Address  Assessed Value  Sale Amount  Sales Ratio  \\\n",
       "997208      4 BISHOP CT         60410.0      53100.0     1.137665   \n",
       "997209  126 PERKINS AVE         68280.0      76000.0     0.898400   \n",
       "997210   19 HATHAWAY ST        121450.0     210000.0     0.578300   \n",
       "997211     8 BYSTREK DR        203360.0     280000.0     0.726300   \n",
       "997212  250 RESEARCH DR       4035970.0    7450000.0     0.541700   \n",
       "\n",
       "        Property Type Residential Type      Non Use Code Assessor Remarks  \\\n",
       "997208  Single Family    Single Family  14 - Foreclosure              NaN   \n",
       "997209  Single Family    Single Family        25 - Other     PRIVATE SALE   \n",
       "997210  Single Family    Single Family               NaN              NaN   \n",
       "997211  Single Family    Single Family               NaN              NaN   \n",
       "997212            NaN              NaN               NaN              NaN   \n",
       "\n",
       "       OPM remarks Location  \n",
       "997208         NaN      NaN  \n",
       "997209         NaN      NaN  \n",
       "997210         NaN      NaN  \n",
       "997211         NaN      NaN  \n",
       "997212         NaN      NaN  "
      ]
     },
     "execution_count": 12,
     "metadata": {},
     "output_type": "execute_result"
    }
   ],
   "source": [
    "df_copy.tail(5)"
   ]
  },
  {
   "cell_type": "code",
   "execution_count": 13,
   "id": "c78e4c78-4df6-4c75-b819-f9d623ffe5df",
   "metadata": {},
   "outputs": [],
   "source": [
    "df_2 = df_copy.copy()"
   ]
  },
  {
   "cell_type": "code",
   "execution_count": 73,
   "id": "ca8adcac-8767-4fc6-946d-42abda68e8c8",
   "metadata": {},
   "outputs": [
    {
     "data": {
      "text/plain": [
       "array(['Serial Number', 'List Year', 'Date Recorded', 'Town', 'Address',\n",
       "       'Assessed Value', 'Sale Amount', 'Sales Ratio', 'Property Type',\n",
       "       'Residential Type'], dtype=object)"
      ]
     },
     "execution_count": 73,
     "metadata": {},
     "output_type": "execute_result"
    }
   ],
   "source": [
    "df_2.columns.values"
   ]
  },
  {
   "cell_type": "markdown",
   "id": "ed10c006-165f-4b1e-94c2-1daa831a53fa",
   "metadata": {},
   "source": [
    "## Handling Data"
   ]
  },
  {
   "cell_type": "code",
   "execution_count": 14,
   "id": "a736f0b7-d4d4-43c3-b35c-dfd47b00e2d5",
   "metadata": {},
   "outputs": [],
   "source": [
    "df_2 = df.drop(['Non Use Code', 'OPM remarks', 'Location', 'Assessor Remarks'], axis=1)"
   ]
  },
  {
   "cell_type": "code",
   "execution_count": 15,
   "id": "ac53d3ad-802d-4b43-acbe-891745e113e8",
   "metadata": {},
   "outputs": [
    {
     "data": {
      "text/html": [
       "<div>\n",
       "<style scoped>\n",
       "    .dataframe tbody tr th:only-of-type {\n",
       "        vertical-align: middle;\n",
       "    }\n",
       "\n",
       "    .dataframe tbody tr th {\n",
       "        vertical-align: top;\n",
       "    }\n",
       "\n",
       "    .dataframe thead th {\n",
       "        text-align: right;\n",
       "    }\n",
       "</style>\n",
       "<table border=\"1\" class=\"dataframe\">\n",
       "  <thead>\n",
       "    <tr style=\"text-align: right;\">\n",
       "      <th></th>\n",
       "      <th>Serial Number</th>\n",
       "      <th>List Year</th>\n",
       "      <th>Date Recorded</th>\n",
       "      <th>Town</th>\n",
       "      <th>Address</th>\n",
       "      <th>Assessed Value</th>\n",
       "      <th>Sale Amount</th>\n",
       "      <th>Sales Ratio</th>\n",
       "      <th>Property Type</th>\n",
       "      <th>Residential Type</th>\n",
       "    </tr>\n",
       "  </thead>\n",
       "  <tbody>\n",
       "    <tr>\n",
       "      <th>997208</th>\n",
       "      <td>190272</td>\n",
       "      <td>2019</td>\n",
       "      <td>2020-06-24</td>\n",
       "      <td>New London</td>\n",
       "      <td>4 BISHOP CT</td>\n",
       "      <td>60410.0</td>\n",
       "      <td>53100.0</td>\n",
       "      <td>1.137665</td>\n",
       "      <td>Single Family</td>\n",
       "      <td>Single Family</td>\n",
       "    </tr>\n",
       "    <tr>\n",
       "      <th>997209</th>\n",
       "      <td>190284</td>\n",
       "      <td>2019</td>\n",
       "      <td>2019-11-27</td>\n",
       "      <td>Waterbury</td>\n",
       "      <td>126 PERKINS AVE</td>\n",
       "      <td>68280.0</td>\n",
       "      <td>76000.0</td>\n",
       "      <td>0.898400</td>\n",
       "      <td>Single Family</td>\n",
       "      <td>Single Family</td>\n",
       "    </tr>\n",
       "    <tr>\n",
       "      <th>997210</th>\n",
       "      <td>190129</td>\n",
       "      <td>2019</td>\n",
       "      <td>2020-04-27</td>\n",
       "      <td>Windsor Locks</td>\n",
       "      <td>19 HATHAWAY ST</td>\n",
       "      <td>121450.0</td>\n",
       "      <td>210000.0</td>\n",
       "      <td>0.578300</td>\n",
       "      <td>Single Family</td>\n",
       "      <td>Single Family</td>\n",
       "    </tr>\n",
       "    <tr>\n",
       "      <th>997211</th>\n",
       "      <td>190504</td>\n",
       "      <td>2019</td>\n",
       "      <td>2020-06-03</td>\n",
       "      <td>Middletown</td>\n",
       "      <td>8 BYSTREK DR</td>\n",
       "      <td>203360.0</td>\n",
       "      <td>280000.0</td>\n",
       "      <td>0.726300</td>\n",
       "      <td>Single Family</td>\n",
       "      <td>Single Family</td>\n",
       "    </tr>\n",
       "    <tr>\n",
       "      <th>997212</th>\n",
       "      <td>190344</td>\n",
       "      <td>2019</td>\n",
       "      <td>2019-12-20</td>\n",
       "      <td>Milford</td>\n",
       "      <td>250 RESEARCH DR</td>\n",
       "      <td>4035970.0</td>\n",
       "      <td>7450000.0</td>\n",
       "      <td>0.541700</td>\n",
       "      <td>NaN</td>\n",
       "      <td>NaN</td>\n",
       "    </tr>\n",
       "  </tbody>\n",
       "</table>\n",
       "</div>"
      ],
      "text/plain": [
       "        Serial Number  List Year Date Recorded           Town  \\\n",
       "997208         190272       2019    2020-06-24     New London   \n",
       "997209         190284       2019    2019-11-27      Waterbury   \n",
       "997210         190129       2019    2020-04-27  Windsor Locks   \n",
       "997211         190504       2019    2020-06-03     Middletown   \n",
       "997212         190344       2019    2019-12-20        Milford   \n",
       "\n",
       "                Address  Assessed Value  Sale Amount  Sales Ratio  \\\n",
       "997208      4 BISHOP CT         60410.0      53100.0     1.137665   \n",
       "997209  126 PERKINS AVE         68280.0      76000.0     0.898400   \n",
       "997210   19 HATHAWAY ST        121450.0     210000.0     0.578300   \n",
       "997211     8 BYSTREK DR        203360.0     280000.0     0.726300   \n",
       "997212  250 RESEARCH DR       4035970.0    7450000.0     0.541700   \n",
       "\n",
       "        Property Type Residential Type  \n",
       "997208  Single Family    Single Family  \n",
       "997209  Single Family    Single Family  \n",
       "997210  Single Family    Single Family  \n",
       "997211  Single Family    Single Family  \n",
       "997212            NaN              NaN  "
      ]
     },
     "execution_count": 15,
     "metadata": {},
     "output_type": "execute_result"
    }
   ],
   "source": [
    "df_2.tail(5)"
   ]
  },
  {
   "cell_type": "code",
   "execution_count": 16,
   "id": "79c3a8df-ec4a-4af5-bc82-64eacbe4c2dd",
   "metadata": {},
   "outputs": [
    {
     "data": {
      "text/html": [
       "<div>\n",
       "<style scoped>\n",
       "    .dataframe tbody tr th:only-of-type {\n",
       "        vertical-align: middle;\n",
       "    }\n",
       "\n",
       "    .dataframe tbody tr th {\n",
       "        vertical-align: top;\n",
       "    }\n",
       "\n",
       "    .dataframe thead th {\n",
       "        text-align: right;\n",
       "    }\n",
       "</style>\n",
       "<table border=\"1\" class=\"dataframe\">\n",
       "  <thead>\n",
       "    <tr style=\"text-align: right;\">\n",
       "      <th></th>\n",
       "      <th>Serial Number</th>\n",
       "      <th>List Year</th>\n",
       "      <th>Date Recorded</th>\n",
       "      <th>Town</th>\n",
       "      <th>Address</th>\n",
       "      <th>Assessed Value</th>\n",
       "      <th>Sale Amount</th>\n",
       "      <th>Sales Ratio</th>\n",
       "      <th>Property Type</th>\n",
       "      <th>Residential Type</th>\n",
       "    </tr>\n",
       "  </thead>\n",
       "  <tbody>\n",
       "    <tr>\n",
       "      <th>0</th>\n",
       "      <td>2020348</td>\n",
       "      <td>2020</td>\n",
       "      <td>2021-09-13</td>\n",
       "      <td>Ansonia</td>\n",
       "      <td>230 WAKELEE AVE</td>\n",
       "      <td>150500.0</td>\n",
       "      <td>325000.0</td>\n",
       "      <td>0.4630</td>\n",
       "      <td>Commercial</td>\n",
       "      <td>NaN</td>\n",
       "    </tr>\n",
       "    <tr>\n",
       "      <th>1</th>\n",
       "      <td>20002</td>\n",
       "      <td>2020</td>\n",
       "      <td>2020-10-02</td>\n",
       "      <td>Ashford</td>\n",
       "      <td>390 TURNPIKE RD</td>\n",
       "      <td>253000.0</td>\n",
       "      <td>430000.0</td>\n",
       "      <td>0.5883</td>\n",
       "      <td>Residential</td>\n",
       "      <td>Single Family</td>\n",
       "    </tr>\n",
       "    <tr>\n",
       "      <th>2</th>\n",
       "      <td>200212</td>\n",
       "      <td>2020</td>\n",
       "      <td>2021-03-09</td>\n",
       "      <td>Avon</td>\n",
       "      <td>5 CHESTNUT DRIVE</td>\n",
       "      <td>130400.0</td>\n",
       "      <td>179900.0</td>\n",
       "      <td>0.7248</td>\n",
       "      <td>Residential</td>\n",
       "      <td>Condo</td>\n",
       "    </tr>\n",
       "    <tr>\n",
       "      <th>3</th>\n",
       "      <td>200243</td>\n",
       "      <td>2020</td>\n",
       "      <td>2021-04-13</td>\n",
       "      <td>Avon</td>\n",
       "      <td>111 NORTHINGTON DRIVE</td>\n",
       "      <td>619290.0</td>\n",
       "      <td>890000.0</td>\n",
       "      <td>0.6958</td>\n",
       "      <td>Residential</td>\n",
       "      <td>Single Family</td>\n",
       "    </tr>\n",
       "    <tr>\n",
       "      <th>4</th>\n",
       "      <td>200377</td>\n",
       "      <td>2020</td>\n",
       "      <td>2021-07-02</td>\n",
       "      <td>Avon</td>\n",
       "      <td>70 FAR HILLS DRIVE</td>\n",
       "      <td>862330.0</td>\n",
       "      <td>1447500.0</td>\n",
       "      <td>0.5957</td>\n",
       "      <td>Residential</td>\n",
       "      <td>Single Family</td>\n",
       "    </tr>\n",
       "  </tbody>\n",
       "</table>\n",
       "</div>"
      ],
      "text/plain": [
       "   Serial Number  List Year Date Recorded     Town                Address  \\\n",
       "0        2020348       2020    2021-09-13  Ansonia        230 WAKELEE AVE   \n",
       "1          20002       2020    2020-10-02  Ashford        390 TURNPIKE RD   \n",
       "2         200212       2020    2021-03-09     Avon       5 CHESTNUT DRIVE   \n",
       "3         200243       2020    2021-04-13     Avon  111 NORTHINGTON DRIVE   \n",
       "4         200377       2020    2021-07-02     Avon     70 FAR HILLS DRIVE   \n",
       "\n",
       "   Assessed Value  Sale Amount  Sales Ratio Property Type Residential Type  \n",
       "0        150500.0     325000.0       0.4630    Commercial              NaN  \n",
       "1        253000.0     430000.0       0.5883   Residential    Single Family  \n",
       "2        130400.0     179900.0       0.7248   Residential            Condo  \n",
       "3        619290.0     890000.0       0.6958   Residential    Single Family  \n",
       "4        862330.0    1447500.0       0.5957   Residential    Single Family  "
      ]
     },
     "execution_count": 16,
     "metadata": {},
     "output_type": "execute_result"
    }
   ],
   "source": [
    "df_2.head(5)"
   ]
  },
  {
   "cell_type": "markdown",
   "id": "fe20c86d-4eff-4352-9b93-938b19d6e328",
   "metadata": {},
   "source": [
    "### Missing Value"
   ]
  },
  {
   "cell_type": "code",
   "execution_count": 17,
   "id": "dddd1e15-342d-4b45-a2bf-245c39edc1e5",
   "metadata": {},
   "outputs": [
    {
     "data": {
      "text/plain": [
       "<AxesSubplot:>"
      ]
     },
     "execution_count": 17,
     "metadata": {},
     "output_type": "execute_result"
    },
    {
     "data": {
      "image/png": "[encoded data removed]",
      "text/plain": [
       "<Figure size 640x480 with 1 Axes>"
      ]
     },
     "metadata": {},
     "output_type": "display_data"
    }
   ],
   "source": [
    "missing = df_2.isnull().sum()\n",
    "missing = missing[missing > 0]\n",
    "missing.sort_values(inplace=True)\n",
    "missing.plot.bar()"
   ]
  },
  {
   "cell_type": "markdown",
   "id": "eb09ab4b-9163-4619-a180-39b4dbf69664",
   "metadata": {},
   "source": [
    "All missing value are almost 40% of the data, need to be fill in with the mode of the data."
   ]
  },
  {
   "cell_type": "code",
   "execution_count": 51,
   "id": "ade0e150-9c34-4ad1-8785-bd37c3f875c7",
   "metadata": {},
   "outputs": [
    {
     "name": "stdout",
     "output_type": "stream",
     "text": [
      "Single Family\n",
      "Single Family\n"
     ]
    },
    {
     "data": {
      "text/html": [
       "<div>\n",
       "<style scoped>\n",
       "    .dataframe tbody tr th:only-of-type {\n",
       "        vertical-align: middle;\n",
       "    }\n",
       "\n",
       "    .dataframe tbody tr th {\n",
       "        vertical-align: top;\n",
       "    }\n",
       "\n",
       "    .dataframe thead th {\n",
       "        text-align: right;\n",
       "    }\n",
       "</style>\n",
       "<table border=\"1\" class=\"dataframe\">\n",
       "  <thead>\n",
       "    <tr style=\"text-align: right;\">\n",
       "      <th></th>\n",
       "      <th>Serial Number</th>\n",
       "      <th>List Year</th>\n",
       "      <th>Date Recorded</th>\n",
       "      <th>Town</th>\n",
       "      <th>Address</th>\n",
       "      <th>Assessed Value</th>\n",
       "      <th>Sale Amount</th>\n",
       "      <th>Sales Ratio</th>\n",
       "      <th>Property Type</th>\n",
       "      <th>Residential Type</th>\n",
       "    </tr>\n",
       "  </thead>\n",
       "  <tbody>\n",
       "    <tr>\n",
       "      <th>997208</th>\n",
       "      <td>190272</td>\n",
       "      <td>2019</td>\n",
       "      <td>2020-06-24</td>\n",
       "      <td>New London</td>\n",
       "      <td>4 BISHOP CT</td>\n",
       "      <td>60410.0</td>\n",
       "      <td>53100.0</td>\n",
       "      <td>1.137665</td>\n",
       "      <td>Single Family</td>\n",
       "      <td>Single Family</td>\n",
       "    </tr>\n",
       "    <tr>\n",
       "      <th>997209</th>\n",
       "      <td>190284</td>\n",
       "      <td>2019</td>\n",
       "      <td>2019-11-27</td>\n",
       "      <td>Waterbury</td>\n",
       "      <td>126 PERKINS AVE</td>\n",
       "      <td>68280.0</td>\n",
       "      <td>76000.0</td>\n",
       "      <td>0.898400</td>\n",
       "      <td>Single Family</td>\n",
       "      <td>Single Family</td>\n",
       "    </tr>\n",
       "    <tr>\n",
       "      <th>997210</th>\n",
       "      <td>190129</td>\n",
       "      <td>2019</td>\n",
       "      <td>2020-04-27</td>\n",
       "      <td>Windsor Locks</td>\n",
       "      <td>19 HATHAWAY ST</td>\n",
       "      <td>121450.0</td>\n",
       "      <td>210000.0</td>\n",
       "      <td>0.578300</td>\n",
       "      <td>Single Family</td>\n",
       "      <td>Single Family</td>\n",
       "    </tr>\n",
       "    <tr>\n",
       "      <th>997211</th>\n",
       "      <td>190504</td>\n",
       "      <td>2019</td>\n",
       "      <td>2020-06-03</td>\n",
       "      <td>Middletown</td>\n",
       "      <td>8 BYSTREK DR</td>\n",
       "      <td>203360.0</td>\n",
       "      <td>280000.0</td>\n",
       "      <td>0.726300</td>\n",
       "      <td>Single Family</td>\n",
       "      <td>Single Family</td>\n",
       "    </tr>\n",
       "    <tr>\n",
       "      <th>997212</th>\n",
       "      <td>190344</td>\n",
       "      <td>2019</td>\n",
       "      <td>2019-12-20</td>\n",
       "      <td>Milford</td>\n",
       "      <td>250 RESEARCH DR</td>\n",
       "      <td>4035970.0</td>\n",
       "      <td>7450000.0</td>\n",
       "      <td>0.541700</td>\n",
       "      <td>Single Family</td>\n",
       "      <td>Single Family</td>\n",
       "    </tr>\n",
       "  </tbody>\n",
       "</table>\n",
       "</div>"
      ],
      "text/plain": [
       "        Serial Number  List Year Date Recorded           Town  \\\n",
       "997208         190272       2019    2020-06-24     New London   \n",
       "997209         190284       2019    2019-11-27      Waterbury   \n",
       "997210         190129       2019    2020-04-27  Windsor Locks   \n",
       "997211         190504       2019    2020-06-03     Middletown   \n",
       "997212         190344       2019    2019-12-20        Milford   \n",
       "\n",
       "                Address  Assessed Value  Sale Amount  Sales Ratio  \\\n",
       "997208      4 BISHOP CT         60410.0      53100.0     1.137665   \n",
       "997209  126 PERKINS AVE         68280.0      76000.0     0.898400   \n",
       "997210   19 HATHAWAY ST        121450.0     210000.0     0.578300   \n",
       "997211     8 BYSTREK DR        203360.0     280000.0     0.726300   \n",
       "997212  250 RESEARCH DR       4035970.0    7450000.0     0.541700   \n",
       "\n",
       "        Property Type Residential Type  \n",
       "997208  Single Family    Single Family  \n",
       "997209  Single Family    Single Family  \n",
       "997210  Single Family    Single Family  \n",
       "997211  Single Family    Single Family  \n",
       "997212  Single Family    Single Family  "
      ]
     },
     "execution_count": 51,
     "metadata": {},
     "output_type": "execute_result"
    }
   ],
   "source": [
    "mod = df_2['Residential Type'].mode()[0]\n",
    "print(mod)\n",
    "\n",
    "mod_2 = df_2['Property Type'].mode()[0]\n",
    "print(mod_2)\n",
    "\n",
    "# Menginput mode of each type to null\n",
    "df_2['Residential Type'] = df_2['Residential Type'].fillna(mod)\n",
    "df_2['Property Type'] = df_2['Property Type'].fillna(mod_2)\n",
    "df_2.tail(5)"
   ]
  },
  {
   "cell_type": "code",
   "execution_count": 52,
   "id": "426d602e-8ce4-46e2-9713-f83b8538cd53",
   "metadata": {},
   "outputs": [
    {
     "data": {
      "text/html": [
       "<div>\n",
       "<style scoped>\n",
       "    .dataframe tbody tr th:only-of-type {\n",
       "        vertical-align: middle;\n",
       "    }\n",
       "\n",
       "    .dataframe tbody tr th {\n",
       "        vertical-align: top;\n",
       "    }\n",
       "\n",
       "    .dataframe thead th {\n",
       "        text-align: right;\n",
       "    }\n",
       "</style>\n",
       "<table border=\"1\" class=\"dataframe\">\n",
       "  <thead>\n",
       "    <tr style=\"text-align: right;\">\n",
       "      <th></th>\n",
       "      <th>Serial Number</th>\n",
       "      <th>List Year</th>\n",
       "      <th>Assessed Value</th>\n",
       "      <th>Sale Amount</th>\n",
       "      <th>Sales Ratio</th>\n",
       "    </tr>\n",
       "  </thead>\n",
       "  <tbody>\n",
       "    <tr>\n",
       "      <th>count</th>\n",
       "      <td>9.972130e+05</td>\n",
       "      <td>997213.000000</td>\n",
       "      <td>9.972130e+05</td>\n",
       "      <td>9.972130e+05</td>\n",
       "      <td>9.972130e+05</td>\n",
       "    </tr>\n",
       "    <tr>\n",
       "      <th>mean</th>\n",
       "      <td>4.311864e+05</td>\n",
       "      <td>2010.189829</td>\n",
       "      <td>2.791437e+05</td>\n",
       "      <td>3.911512e+05</td>\n",
       "      <td>1.044637e+01</td>\n",
       "    </tr>\n",
       "    <tr>\n",
       "      <th>std</th>\n",
       "      <td>6.549219e+06</td>\n",
       "      <td>6.237877</td>\n",
       "      <td>1.670610e+06</td>\n",
       "      <td>5.347270e+06</td>\n",
       "      <td>1.890192e+03</td>\n",
       "    </tr>\n",
       "    <tr>\n",
       "      <th>min</th>\n",
       "      <td>0.000000e+00</td>\n",
       "      <td>2001.000000</td>\n",
       "      <td>0.000000e+00</td>\n",
       "      <td>0.000000e+00</td>\n",
       "      <td>0.000000e+00</td>\n",
       "    </tr>\n",
       "    <tr>\n",
       "      <th>25%</th>\n",
       "      <td>3.044400e+04</td>\n",
       "      <td>2004.000000</td>\n",
       "      <td>8.760000e+04</td>\n",
       "      <td>1.400000e+05</td>\n",
       "      <td>4.867000e-01</td>\n",
       "    </tr>\n",
       "    <tr>\n",
       "      <th>50%</th>\n",
       "      <td>7.030300e+04</td>\n",
       "      <td>2010.000000</td>\n",
       "      <td>1.383900e+05</td>\n",
       "      <td>2.250000e+05</td>\n",
       "      <td>6.246000e-01</td>\n",
       "    </tr>\n",
       "    <tr>\n",
       "      <th>75%</th>\n",
       "      <td>1.518780e+05</td>\n",
       "      <td>2016.000000</td>\n",
       "      <td>2.255600e+05</td>\n",
       "      <td>3.650000e+05</td>\n",
       "      <td>7.852761e-01</td>\n",
       "    </tr>\n",
       "    <tr>\n",
       "      <th>max</th>\n",
       "      <td>2.000500e+09</td>\n",
       "      <td>2020.000000</td>\n",
       "      <td>8.815100e+08</td>\n",
       "      <td>5.000000e+09</td>\n",
       "      <td>1.226420e+06</td>\n",
       "    </tr>\n",
       "  </tbody>\n",
       "</table>\n",
       "</div>"
      ],
      "text/plain": [
       "       Serial Number      List Year  Assessed Value   Sale Amount  \\\n",
       "count   9.972130e+05  997213.000000    9.972130e+05  9.972130e+05   \n",
       "mean    4.311864e+05    2010.189829    2.791437e+05  3.911512e+05   \n",
       "std     6.549219e+06       6.237877    1.670610e+06  5.347270e+06   \n",
       "min     0.000000e+00    2001.000000    0.000000e+00  0.000000e+00   \n",
       "25%     3.044400e+04    2004.000000    8.760000e+04  1.400000e+05   \n",
       "50%     7.030300e+04    2010.000000    1.383900e+05  2.250000e+05   \n",
       "75%     1.518780e+05    2016.000000    2.255600e+05  3.650000e+05   \n",
       "max     2.000500e+09    2020.000000    8.815100e+08  5.000000e+09   \n",
       "\n",
       "        Sales Ratio  \n",
       "count  9.972130e+05  \n",
       "mean   1.044637e+01  \n",
       "std    1.890192e+03  \n",
       "min    0.000000e+00  \n",
       "25%    4.867000e-01  \n",
       "50%    6.246000e-01  \n",
       "75%    7.852761e-01  \n",
       "max    1.226420e+06  "
      ]
     },
     "execution_count": 52,
     "metadata": {},
     "output_type": "execute_result"
    }
   ],
   "source": [
    "df_2.describe()"
   ]
  },
  {
   "cell_type": "markdown",
   "id": "0c3b70cb-b46f-41f5-9365-cde55708ece9",
   "metadata": {},
   "source": [
    "### Duplicate Value"
   ]
  },
  {
   "cell_type": "code",
   "execution_count": 38,
   "id": "5d8c063d-ede5-43ea-b70b-fd673ed6e114",
   "metadata": {},
   "outputs": [
    {
     "data": {
      "text/plain": [
       "0         False\n",
       "1         False\n",
       "2         False\n",
       "3         False\n",
       "4         False\n",
       "          ...  \n",
       "997208    False\n",
       "997209    False\n",
       "997210    False\n",
       "997211    False\n",
       "997212    False\n",
       "Length: 997213, dtype: bool"
      ]
     },
     "execution_count": 38,
     "metadata": {},
     "output_type": "execute_result"
    }
   ],
   "source": [
    "df_2.duplicated(keep=False)"
   ]
  },
  {
   "cell_type": "code",
   "execution_count": 39,
   "id": "191092f0-b0e7-47ce-b0a8-1a3b213bc73b",
   "metadata": {},
   "outputs": [
    {
     "data": {
      "text/html": [
       "<div>\n",
       "<style scoped>\n",
       "    .dataframe tbody tr th:only-of-type {\n",
       "        vertical-align: middle;\n",
       "    }\n",
       "\n",
       "    .dataframe tbody tr th {\n",
       "        vertical-align: top;\n",
       "    }\n",
       "\n",
       "    .dataframe thead th {\n",
       "        text-align: right;\n",
       "    }\n",
       "</style>\n",
       "<table border=\"1\" class=\"dataframe\">\n",
       "  <thead>\n",
       "    <tr style=\"text-align: right;\">\n",
       "      <th></th>\n",
       "      <th>Serial Number</th>\n",
       "      <th>List Year</th>\n",
       "      <th>Date Recorded</th>\n",
       "      <th>Town</th>\n",
       "      <th>Address</th>\n",
       "      <th>Assessed Value</th>\n",
       "      <th>Sale Amount</th>\n",
       "      <th>Sales Ratio</th>\n",
       "      <th>Property Type</th>\n",
       "      <th>Residential Type</th>\n",
       "    </tr>\n",
       "  </thead>\n",
       "  <tbody>\n",
       "  </tbody>\n",
       "</table>\n",
       "</div>"
      ],
      "text/plain": [
       "Empty DataFrame\n",
       "Columns: [Serial Number, List Year, Date Recorded, Town, Address, Assessed Value, Sale Amount, Sales Ratio, Property Type, Residential Type]\n",
       "Index: []"
      ]
     },
     "execution_count": 39,
     "metadata": {},
     "output_type": "execute_result"
    }
   ],
   "source": [
    "df_2[df_2.duplicated(keep=False)]"
   ]
  },
  {
   "cell_type": "code",
   "execution_count": 53,
   "id": "7ecc971e-313a-431c-8656-84e76167aba4",
   "metadata": {},
   "outputs": [
    {
     "data": {
      "text/html": [
       "<div>\n",
       "<style scoped>\n",
       "    .dataframe tbody tr th:only-of-type {\n",
       "        vertical-align: middle;\n",
       "    }\n",
       "\n",
       "    .dataframe tbody tr th {\n",
       "        vertical-align: top;\n",
       "    }\n",
       "\n",
       "    .dataframe thead th {\n",
       "        text-align: right;\n",
       "    }\n",
       "</style>\n",
       "<table border=\"1\" class=\"dataframe\">\n",
       "  <thead>\n",
       "    <tr style=\"text-align: right;\">\n",
       "      <th></th>\n",
       "      <th>Serial Number</th>\n",
       "      <th>List Year</th>\n",
       "      <th>Date Recorded</th>\n",
       "      <th>Town</th>\n",
       "      <th>Address</th>\n",
       "      <th>Assessed Value</th>\n",
       "      <th>Sale Amount</th>\n",
       "      <th>Sales Ratio</th>\n",
       "      <th>Property Type</th>\n",
       "      <th>Residential Type</th>\n",
       "    </tr>\n",
       "  </thead>\n",
       "  <tbody>\n",
       "    <tr>\n",
       "      <th>0</th>\n",
       "      <td>2020348</td>\n",
       "      <td>2020</td>\n",
       "      <td>2021-09-13</td>\n",
       "      <td>Ansonia</td>\n",
       "      <td>230 WAKELEE AVE</td>\n",
       "      <td>150500.0</td>\n",
       "      <td>325000.0</td>\n",
       "      <td>0.463000</td>\n",
       "      <td>Commercial</td>\n",
       "      <td>Single Family</td>\n",
       "    </tr>\n",
       "    <tr>\n",
       "      <th>1</th>\n",
       "      <td>20002</td>\n",
       "      <td>2020</td>\n",
       "      <td>2020-10-02</td>\n",
       "      <td>Ashford</td>\n",
       "      <td>390 TURNPIKE RD</td>\n",
       "      <td>253000.0</td>\n",
       "      <td>430000.0</td>\n",
       "      <td>0.588300</td>\n",
       "      <td>Residential</td>\n",
       "      <td>Single Family</td>\n",
       "    </tr>\n",
       "    <tr>\n",
       "      <th>2</th>\n",
       "      <td>200212</td>\n",
       "      <td>2020</td>\n",
       "      <td>2021-03-09</td>\n",
       "      <td>Avon</td>\n",
       "      <td>5 CHESTNUT DRIVE</td>\n",
       "      <td>130400.0</td>\n",
       "      <td>179900.0</td>\n",
       "      <td>0.724800</td>\n",
       "      <td>Residential</td>\n",
       "      <td>Condo</td>\n",
       "    </tr>\n",
       "    <tr>\n",
       "      <th>3</th>\n",
       "      <td>200243</td>\n",
       "      <td>2020</td>\n",
       "      <td>2021-04-13</td>\n",
       "      <td>Avon</td>\n",
       "      <td>111 NORTHINGTON DRIVE</td>\n",
       "      <td>619290.0</td>\n",
       "      <td>890000.0</td>\n",
       "      <td>0.695800</td>\n",
       "      <td>Residential</td>\n",
       "      <td>Single Family</td>\n",
       "    </tr>\n",
       "    <tr>\n",
       "      <th>4</th>\n",
       "      <td>200377</td>\n",
       "      <td>2020</td>\n",
       "      <td>2021-07-02</td>\n",
       "      <td>Avon</td>\n",
       "      <td>70 FAR HILLS DRIVE</td>\n",
       "      <td>862330.0</td>\n",
       "      <td>1447500.0</td>\n",
       "      <td>0.595700</td>\n",
       "      <td>Residential</td>\n",
       "      <td>Single Family</td>\n",
       "    </tr>\n",
       "    <tr>\n",
       "      <th>...</th>\n",
       "      <td>...</td>\n",
       "      <td>...</td>\n",
       "      <td>...</td>\n",
       "      <td>...</td>\n",
       "      <td>...</td>\n",
       "      <td>...</td>\n",
       "      <td>...</td>\n",
       "      <td>...</td>\n",
       "      <td>...</td>\n",
       "      <td>...</td>\n",
       "    </tr>\n",
       "    <tr>\n",
       "      <th>997208</th>\n",
       "      <td>190272</td>\n",
       "      <td>2019</td>\n",
       "      <td>2020-06-24</td>\n",
       "      <td>New London</td>\n",
       "      <td>4 BISHOP CT</td>\n",
       "      <td>60410.0</td>\n",
       "      <td>53100.0</td>\n",
       "      <td>1.137665</td>\n",
       "      <td>Single Family</td>\n",
       "      <td>Single Family</td>\n",
       "    </tr>\n",
       "    <tr>\n",
       "      <th>997209</th>\n",
       "      <td>190284</td>\n",
       "      <td>2019</td>\n",
       "      <td>2019-11-27</td>\n",
       "      <td>Waterbury</td>\n",
       "      <td>126 PERKINS AVE</td>\n",
       "      <td>68280.0</td>\n",
       "      <td>76000.0</td>\n",
       "      <td>0.898400</td>\n",
       "      <td>Single Family</td>\n",
       "      <td>Single Family</td>\n",
       "    </tr>\n",
       "    <tr>\n",
       "      <th>997210</th>\n",
       "      <td>190129</td>\n",
       "      <td>2019</td>\n",
       "      <td>2020-04-27</td>\n",
       "      <td>Windsor Locks</td>\n",
       "      <td>19 HATHAWAY ST</td>\n",
       "      <td>121450.0</td>\n",
       "      <td>210000.0</td>\n",
       "      <td>0.578300</td>\n",
       "      <td>Single Family</td>\n",
       "      <td>Single Family</td>\n",
       "    </tr>\n",
       "    <tr>\n",
       "      <th>997211</th>\n",
       "      <td>190504</td>\n",
       "      <td>2019</td>\n",
       "      <td>2020-06-03</td>\n",
       "      <td>Middletown</td>\n",
       "      <td>8 BYSTREK DR</td>\n",
       "      <td>203360.0</td>\n",
       "      <td>280000.0</td>\n",
       "      <td>0.726300</td>\n",
       "      <td>Single Family</td>\n",
       "      <td>Single Family</td>\n",
       "    </tr>\n",
       "    <tr>\n",
       "      <th>997212</th>\n",
       "      <td>190344</td>\n",
       "      <td>2019</td>\n",
       "      <td>2019-12-20</td>\n",
       "      <td>Milford</td>\n",
       "      <td>250 RESEARCH DR</td>\n",
       "      <td>4035970.0</td>\n",
       "      <td>7450000.0</td>\n",
       "      <td>0.541700</td>\n",
       "      <td>Single Family</td>\n",
       "      <td>Single Family</td>\n",
       "    </tr>\n",
       "  </tbody>\n",
       "</table>\n",
       "<p>997213 rows × 10 columns</p>\n",
       "</div>"
      ],
      "text/plain": [
       "        Serial Number  List Year Date Recorded           Town  \\\n",
       "0             2020348       2020    2021-09-13        Ansonia   \n",
       "1               20002       2020    2020-10-02        Ashford   \n",
       "2              200212       2020    2021-03-09           Avon   \n",
       "3              200243       2020    2021-04-13           Avon   \n",
       "4              200377       2020    2021-07-02           Avon   \n",
       "...               ...        ...           ...            ...   \n",
       "997208         190272       2019    2020-06-24     New London   \n",
       "997209         190284       2019    2019-11-27      Waterbury   \n",
       "997210         190129       2019    2020-04-27  Windsor Locks   \n",
       "997211         190504       2019    2020-06-03     Middletown   \n",
       "997212         190344       2019    2019-12-20        Milford   \n",
       "\n",
       "                      Address  Assessed Value  Sale Amount  Sales Ratio  \\\n",
       "0             230 WAKELEE AVE        150500.0     325000.0     0.463000   \n",
       "1             390 TURNPIKE RD        253000.0     430000.0     0.588300   \n",
       "2            5 CHESTNUT DRIVE        130400.0     179900.0     0.724800   \n",
       "3       111 NORTHINGTON DRIVE        619290.0     890000.0     0.695800   \n",
       "4          70 FAR HILLS DRIVE        862330.0    1447500.0     0.595700   \n",
       "...                       ...             ...          ...          ...   \n",
       "997208            4 BISHOP CT         60410.0      53100.0     1.137665   \n",
       "997209        126 PERKINS AVE         68280.0      76000.0     0.898400   \n",
       "997210         19 HATHAWAY ST        121450.0     210000.0     0.578300   \n",
       "997211           8 BYSTREK DR        203360.0     280000.0     0.726300   \n",
       "997212        250 RESEARCH DR       4035970.0    7450000.0     0.541700   \n",
       "\n",
       "        Property Type Residential Type  \n",
       "0          Commercial    Single Family  \n",
       "1         Residential    Single Family  \n",
       "2         Residential            Condo  \n",
       "3         Residential    Single Family  \n",
       "4         Residential    Single Family  \n",
       "...               ...              ...  \n",
       "997208  Single Family    Single Family  \n",
       "997209  Single Family    Single Family  \n",
       "997210  Single Family    Single Family  \n",
       "997211  Single Family    Single Family  \n",
       "997212  Single Family    Single Family  \n",
       "\n",
       "[997213 rows x 10 columns]"
      ]
     },
     "execution_count": 53,
     "metadata": {},
     "output_type": "execute_result"
    }
   ],
   "source": [
    "df_2"
   ]
  },
  {
   "cell_type": "markdown",
   "id": "db1f338a-a8cb-4336-826e-261403c84fa2",
   "metadata": {},
   "source": [
    "### Outlier"
   ]
  },
  {
   "cell_type": "code",
   "execution_count": 54,
   "id": "271be390-e3cc-4200-b764-756dee975601",
   "metadata": {},
   "outputs": [
    {
     "data": {
      "text/plain": [
       "<AxesSubplot:xlabel='Sale Amount'>"
      ]
     },
     "execution_count": 54,
     "metadata": {},
     "output_type": "execute_result"
    },
    {
     "data": {
      "image/png": "[encoded data removed]",
      "text/plain": [
       "<Figure size 640x480 with 1 Axes>"
      ]
     },
     "metadata": {},
     "output_type": "display_data"
    }
   ],
   "source": [
    "# Membuat boxplot Sale Amount\n",
    "\n",
    "sns.boxplot(data=df_2,x=\"Sale Amount\")"
   ]
  },
  {
   "cell_type": "code",
   "execution_count": 60,
   "id": "d14f7646-1606-459e-8bef-befaa2aa6c2f",
   "metadata": {},
   "outputs": [
    {
     "data": {
      "text/plain": [
       "<AxesSubplot:xlabel='Assessed Value'>"
      ]
     },
     "execution_count": 60,
     "metadata": {},
     "output_type": "execute_result"
    },
    {
     "data": {
      "image/png": "[encoded data removed]",
      "text/plain": [
       "<Figure size 640x480 with 1 Axes>"
      ]
     },
     "metadata": {},
     "output_type": "display_data"
    }
   ],
   "source": [
    "#  Membuat boxplot Assessed Value\n",
    "\n",
    "sns.boxplot(data=df_2,x=\"Assessed Value\")"
   ]
  },
  {
   "cell_type": "code",
   "execution_count": 56,
   "id": "000f800b-f757-4b4e-9b25-b93b84be035e",
   "metadata": {},
   "outputs": [
    {
     "data": {
      "text/plain": [
       "<AxesSubplot:xlabel='Sale Amount', ylabel='Count'>"
      ]
     },
     "execution_count": 56,
     "metadata": {},
     "output_type": "execute_result"
    },
    {
     "data": {
      "image/png": "[encoded data removed]",
      "text/plain": [
       "<Figure size 640x480 with 1 Axes>"
      ]
     },
     "metadata": {},
     "output_type": "display_data"
    }
   ],
   "source": [
    "# handling outlier kolom Sale Amount\n",
    "# batas atas data\n",
    "batas_atas = df_2[\"Sale Amount\"].quantile(q=0.75) * 1.5\n",
    "\n",
    "# plot tanpa outlier\n",
    "without_outlier = df_2[df_2[\"Sale Amount\"] < batas_atas]\n",
    "\n",
    "# plot kolom Sale Amount tanpa outlier\n",
    "sns.histplot(without_outlier[\"Sale Amount\"])"
   ]
  },
  {
   "cell_type": "code",
   "execution_count": 58,
   "id": "b5488bcb-1faa-49d3-93d9-52f073aa42f0",
   "metadata": {},
   "outputs": [],
   "source": [
    "# Mencari nilai median\n",
    "median = df_2[\"Sale Amount\"].median()\n",
    "\n",
    "# mengubah nilai outlier dengan median\n",
    "df_2.loc[df_2[\"Sale Amount\"] > batas_atas, \"Sale Amount\"] = median"
   ]
  },
  {
   "cell_type": "code",
   "execution_count": 59,
   "id": "169fdd8e-1881-41a9-82cd-befc8e6cda3e",
   "metadata": {},
   "outputs": [
    {
     "data": {
      "text/plain": [
       "<AxesSubplot:xlabel='Sale Amount'>"
      ]
     },
     "execution_count": 59,
     "metadata": {},
     "output_type": "execute_result"
    },
    {
     "data": {
      "image/png": "[encoded data removed]",
      "text/plain": [
       "<Figure size 640x480 with 1 Axes>"
      ]
     },
     "metadata": {},
     "output_type": "display_data"
    }
   ],
   "source": [
    "# cek ulang kolom Sale Amount outlier dengan boxplot\n",
    "sns.boxplot(data=df_2, x=\"Sale Amount\")"
   ]
  },
  {
   "cell_type": "code",
   "execution_count": 66,
   "id": "822e8e0e-b6f1-4f09-b8ac-b1d8480678d0",
   "metadata": {},
   "outputs": [
    {
     "data": {
      "text/plain": [
       "<AxesSubplot:xlabel='Assessed Value', ylabel='Count'>"
      ]
     },
     "execution_count": 66,
     "metadata": {},
     "output_type": "execute_result"
    },
    {
     "data": {
      "image/png": "[encoded data removed]",
      "text/plain": [
       "<Figure size 640x480 with 1 Axes>"
      ]
     },
     "metadata": {},
     "output_type": "display_data"
    }
   ],
   "source": [
    "# handling outlier kolom Assessed Value\n",
    "# batas atas data\n",
    "batas_atas = df_2[\"Assessed Value\"].quantile(q=0.75) * 1.5\n",
    "\n",
    "#batas bawah data\n",
    "batas_bawah = df_2[\"Assessed Value\"].quantile(q=0.25) * 1.5\n",
    "\n",
    "# plot tanpa outlier\n",
    "without_outlier = df_2[(df_2[\"Assessed Value\"] > 0) & (df_2[\"Assessed Value\"] < batas_atas)]\n",
    "\n",
    "# plot kolom price tanpa extreme outlier\n",
    "sns.histplot(without_outlier[\"Assessed Value\"])"
   ]
  },
  {
   "cell_type": "code",
   "execution_count": 67,
   "id": "0669585e-87dd-4d18-b5f4-09dd1f203f79",
   "metadata": {},
   "outputs": [],
   "source": [
    "# Mencari nilai median\n",
    "median = df_2[\"Assessed Value\"].median()\n",
    "\n",
    "# mengubah nilai outlier dengan median\n",
    "df_2.loc[df_2[\"Assessed Value\"] > batas_atas, \"Assessed Value\"] = median"
   ]
  },
  {
   "cell_type": "code",
   "execution_count": 68,
   "id": "31accc25-3db1-47fe-8907-fd23a50c1f46",
   "metadata": {},
   "outputs": [
    {
     "data": {
      "text/plain": [
       "<AxesSubplot:xlabel='Assessed Value'>"
      ]
     },
     "execution_count": 68,
     "metadata": {},
     "output_type": "execute_result"
    },
    {
     "data": {
      "image/png": "[encoded data removed]",
      "text/plain": [
       "<Figure size 640x480 with 1 Axes>"
      ]
     },
     "metadata": {},
     "output_type": "display_data"
    }
   ],
   "source": [
    "# cek ulang kolom Sale Amount outlier dengan boxplot\n",
    "sns.boxplot(data=df_2, x=\"Assessed Value\")"
   ]
  },
  {
   "cell_type": "markdown",
   "id": "39839c47-54db-4288-96ba-76ddde277498",
   "metadata": {},
   "source": [
    "## Data Vizualization & Analization"
   ]
  },
  {
   "cell_type": "markdown",
   "id": "9969e30a-ba38-401f-9899-ce3be6899214",
   "metadata": {},
   "source": [
    "### Highest Sale Amount based from Residential Type"
   ]
  },
  {
   "cell_type": "code",
   "execution_count": 78,
   "id": "2e4155a7-bd62-48e5-ba4d-80229ebfa2cb",
   "metadata": {},
   "outputs": [
    {
     "data": {
      "text/html": [
       "<div>\n",
       "<style scoped>\n",
       "    .dataframe tbody tr th:only-of-type {\n",
       "        vertical-align: middle;\n",
       "    }\n",
       "\n",
       "    .dataframe tbody tr th {\n",
       "        vertical-align: top;\n",
       "    }\n",
       "\n",
       "    .dataframe thead th {\n",
       "        text-align: right;\n",
       "    }\n",
       "</style>\n",
       "<table border=\"1\" class=\"dataframe\">\n",
       "  <thead>\n",
       "    <tr style=\"text-align: right;\">\n",
       "      <th></th>\n",
       "      <th>Sale Amount</th>\n",
       "    </tr>\n",
       "    <tr>\n",
       "      <th>Residential Type</th>\n",
       "      <th></th>\n",
       "    </tr>\n",
       "  </thead>\n",
       "  <tbody>\n",
       "    <tr>\n",
       "      <th>Condo</th>\n",
       "      <td>196657.207926</td>\n",
       "    </tr>\n",
       "    <tr>\n",
       "      <th>Four Family</th>\n",
       "      <td>204240.167907</td>\n",
       "    </tr>\n",
       "    <tr>\n",
       "      <th>Single Family</th>\n",
       "      <td>225002.456270</td>\n",
       "    </tr>\n",
       "    <tr>\n",
       "      <th>Three Family</th>\n",
       "      <td>173982.204082</td>\n",
       "    </tr>\n",
       "    <tr>\n",
       "      <th>Two Family</th>\n",
       "      <td>181330.042650</td>\n",
       "    </tr>\n",
       "  </tbody>\n",
       "</table>\n",
       "</div>"
      ],
      "text/plain": [
       "                    Sale Amount\n",
       "Residential Type               \n",
       "Condo             196657.207926\n",
       "Four Family       204240.167907\n",
       "Single Family     225002.456270\n",
       "Three Family      173982.204082\n",
       "Two Family        181330.042650"
      ]
     },
     "execution_count": 78,
     "metadata": {},
     "output_type": "execute_result"
    }
   ],
   "source": [
    "# group by Sale Amount terhadap payment value \n",
    "\n",
    "sale_amount = pd.DataFrame(df_2.groupby([\"Residential Type\"])[\"Sale Amount\"].mean())\n",
    "sale_amount"
   ]
  },
  {
   "cell_type": "code",
   "execution_count": 79,
   "id": "b6ee9641-e4e1-4cfe-b913-0c1546ae119b",
   "metadata": {},
   "outputs": [
    {
     "data": {
      "image/png": "[encoded data removed]",
      "text/plain": [
       "<Figure size 1200x800 with 1 Axes>"
      ]
     },
     "metadata": {},
     "output_type": "display_data"
    }
   ],
   "source": [
    "sns.set_style('darkgrid')\n",
    "sns.set(rc={'figure.figsize':(12, 8)})\n",
    "\n",
    "ax = sns.lineplot(data = sale_amount, x =\"Residential Type\", y = \"Sale Amount\", legend='full', lw=3)"
   ]
  },
  {
   "cell_type": "raw",
   "id": "5f0f357a-89b3-490b-ad54-8d168e4fa99d",
   "metadata": {},
   "source": [
    "Based on mean of Sale Amount of Residential Type above Single Family have a highest sale amount in Connecticut from 2001 - 2020"
   ]
  },
  {
   "cell_type": "markdown",
   "id": "987cf396-b97c-4d08-9345-85009f8a2a29",
   "metadata": {},
   "source": [
    "### Highest Assessed Value based from Residential Type"
   ]
  },
  {
   "cell_type": "code",
   "execution_count": 82,
   "id": "2801403b-beb7-4acc-bf66-e8d60d047051",
   "metadata": {},
   "outputs": [
    {
     "data": {
      "text/html": [
       "<div>\n",
       "<style scoped>\n",
       "    .dataframe tbody tr th:only-of-type {\n",
       "        vertical-align: middle;\n",
       "    }\n",
       "\n",
       "    .dataframe tbody tr th {\n",
       "        vertical-align: top;\n",
       "    }\n",
       "\n",
       "    .dataframe thead th {\n",
       "        text-align: right;\n",
       "    }\n",
       "</style>\n",
       "<table border=\"1\" class=\"dataframe\">\n",
       "  <thead>\n",
       "    <tr style=\"text-align: right;\">\n",
       "      <th></th>\n",
       "      <th>Assessed Value</th>\n",
       "    </tr>\n",
       "    <tr>\n",
       "      <th>Residential Type</th>\n",
       "      <th></th>\n",
       "    </tr>\n",
       "  </thead>\n",
       "  <tbody>\n",
       "    <tr>\n",
       "      <th>Condo</th>\n",
       "      <td>123083.777509</td>\n",
       "    </tr>\n",
       "    <tr>\n",
       "      <th>Four Family</th>\n",
       "      <td>156250.490488</td>\n",
       "    </tr>\n",
       "    <tr>\n",
       "      <th>Single Family</th>\n",
       "      <td>137853.964726</td>\n",
       "    </tr>\n",
       "    <tr>\n",
       "      <th>Three Family</th>\n",
       "      <td>125338.108089</td>\n",
       "    </tr>\n",
       "    <tr>\n",
       "      <th>Two Family</th>\n",
       "      <td>133677.945591</td>\n",
       "    </tr>\n",
       "  </tbody>\n",
       "</table>\n",
       "</div>"
      ],
      "text/plain": [
       "                  Assessed Value\n",
       "Residential Type                \n",
       "Condo              123083.777509\n",
       "Four Family        156250.490488\n",
       "Single Family      137853.964726\n",
       "Three Family       125338.108089\n",
       "Two Family         133677.945591"
      ]
     },
     "execution_count": 82,
     "metadata": {},
     "output_type": "execute_result"
    }
   ],
   "source": [
    "assessed_value = pd.DataFrame(df_2.groupby([\"Residential Type\"])[\"Assessed Value\"].mean())\n",
    "assessed_value"
   ]
  },
  {
   "cell_type": "code",
   "execution_count": 83,
   "id": "d1486953-87f8-4428-88ce-890b53151cbd",
   "metadata": {},
   "outputs": [
    {
     "data": {
      "image/png": "[encoded data removed]",
      "text/plain": [
       "<Figure size 1200x800 with 1 Axes>"
      ]
     },
     "metadata": {},
     "output_type": "display_data"
    }
   ],
   "source": [
    "sns.set_style('darkgrid')\n",
    "sns.set(rc={'figure.figsize':(12, 8)})\n",
    "\n",
    "ax = sns.lineplot(data = assessed_value, x =\"Residential Type\", y = \"Assessed Value\", legend='full', lw=3)"
   ]
  },
  {
   "cell_type": "raw",
   "id": "851279a7-b9b0-4e51-a36c-c2fdfbaca40a",
   "metadata": {},
   "source": [
    "Based on mean of Assessed Value of Residential Type above Four Family Type have a highest assesed value in Connecticut from 2001 - 2020"
   ]
  },
  {
   "cell_type": "raw",
   "id": "d9bcd60e-f06c-42d1-b331-713a41a5034d",
   "metadata": {},
   "source": [
    "From what we see, assessed value for residential type of four family is the highest value. The price of the single house that was sold has the highest mean value compared to the four other houses and the rest, which is contrary to what was assessed for this type of house."
   ]
  }
 ],
 "metadata": {
  "kernelspec": {
   "display_name": "Python 3 (ipykernel)",
   "language": "python",
   "name": "python3"
  },
  "language_info": {
   "codemirror_mode": {
    "name": "ipython",
    "version": 3
   },
   "file_extension": ".py",
   "mimetype": "text/x-python",
   "name": "python",
   "nbconvert_exporter": "python",
   "pygments_lexer": "ipython3",
   "version": "3.9.13"
  }
 },
 "nbformat": 4,
 "nbformat_minor": 5
}
